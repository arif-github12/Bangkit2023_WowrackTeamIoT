{
  "nbformat": 4,
  "nbformat_minor": 0,
  "metadata": {
    "colab": {
      "provenance": []
    },
    "kernelspec": {
      "name": "python3",
      "display_name": "Python 3"
    },
    "language_info": {
      "name": "python"
    }
  },
  "cells": [
    {
      "cell_type": "code",
      "execution_count": null,
      "metadata": {
        "id": "pE8cZHPCl86v"
      },
      "outputs": [],
      "source": [
        "import cv2\n",
        "import matplotlib.pyplot as plt\n",
        "import imgaug.augmenters as aug\n",
        "import random\n",
        "import shutil\n",
        "import os\n",
        "import time\n",
        "import numpy as np\n",
        "import keras\n",
        "import tensorflow as tf\n",
        "from keras.models import Model\n",
        "from keras.layers import Input\n",
        "from keras.layers import Dense\n",
        "from keras.layers import Conv2D\n",
        "from keras.layers import MaxPooling2D\n",
        "from keras.layers import Flatten\n",
        "from keras.layers import Dropout\n",
        "from keras.preprocessing.image import ImageDataGenerator\n",
        "from keras.optimizers import Adam\n",
        "from google.colab import drive"
      ]
    },
    {
      "cell_type": "code",
      "source": [
        "from google.colab import drive\n",
        "drive.mount('/content/drive')"
      ],
      "metadata": {
        "colab": {
          "base_uri": "https://localhost:8080/"
        },
        "id": "8VSwTplRZw7Z",
        "outputId": "32eea033-51a2-4499-89b2-3582bd1b83a0"
      },
      "execution_count": null,
      "outputs": [
        {
          "output_type": "stream",
          "name": "stdout",
          "text": [
            "Mounted at /content/drive\n"
          ]
        }
      ]
    },
    {
      "cell_type": "code",
      "source": [
        "data = '/content/drive/MyDrive/datasets_sampah_f'\n",
        "\n",
        "save_data = '/content/drive/MyDrive/datasets_sampah_f/kosong'"
      ],
      "metadata": {
        "id": "Ti_qgZ2mZuIQ"
      },
      "execution_count": null,
      "outputs": []
    },
    {
      "cell_type": "code",
      "source": [
        "train_datagen = ImageDataGenerator(\n",
        "    featurewise_center=True,\n",
        "    featurewise_std_normalization=True,\n",
        "    rotation_range=20,\n",
        "    width_shift_range=0.2,\n",
        "    height_shift_range=0.2,\n",
        "    horizontal_flip=True,\n",
        "    validation_split=0.2,\n",
        "    rescale = 1. / 255,\n",
        "    zoom_range = 0.2\n",
        "    )\n",
        "\n",
        "test_datagen = ImageDataGenerator(rescale = 1. / 255)\n",
        "\n",
        "train_generator = train_datagen.flow_from_directory(\n",
        "    data,\n",
        "    target_size = (150, 150),\n",
        "    batch_size = 32,\n",
        "    subset = 'training',\n",
        "    save_to_dir = save_data,\n",
        "    class_mode='categorical'\n",
        ")\n",
        "validation_generator = test_datagen.flow_from_directory(\n",
        "        data,\n",
        "        target_size=(150, 150),\n",
        "        batch_size=32,\n",
        "        subset = 'validation',\n",
        "        #save_to_dir = save_data,\n",
        "        class_mode='categorical')"
      ],
      "metadata": {
        "colab": {
          "base_uri": "https://localhost:8080/"
        },
        "id": "RH2X_fyRZ680",
        "outputId": "c1a5487f-f018-4b39-eb4f-81a1fca1cfed"
      },
      "execution_count": null,
      "outputs": [
        {
          "output_type": "stream",
          "name": "stdout",
          "text": [
            "Found 15 images belonging to 3 classes.\n",
            "Found 0 images belonging to 3 classes.\n"
          ]
        }
      ]
    },
    {
      "cell_type": "code",
      "source": [
        "for i in range(0, 6):\n",
        "  a, b = next(train_generator)"
      ],
      "metadata": {
        "id": "_pOcHW69aA_y"
      },
      "execution_count": null,
      "outputs": []
    }
  ]
}