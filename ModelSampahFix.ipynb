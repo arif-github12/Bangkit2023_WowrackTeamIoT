{
  "nbformat": 4,
  "nbformat_minor": 0,
  "metadata": {
    "colab": {
      "provenance": []
    },
    "kernelspec": {
      "name": "python3",
      "display_name": "Python 3"
    },
    "language_info": {
      "name": "python"
    }
  },
  "cells": [
    {
      "cell_type": "code",
      "execution_count": 13,
      "metadata": {
        "id": "KHEPIMCojVXQ"
      },
      "outputs": [],
      "source": [
        "import cv2\n",
        "import matplotlib.pyplot as plt\n",
        "import imgaug.augmenters as aug\n",
        "import random\n",
        "import shutil\n",
        "import os\n",
        "import time\n",
        "import numpy as np\n",
        "import keras\n",
        "import tensorflow as tf\n",
        "from keras.models import Model\n",
        "from keras.layers import Input\n",
        "from keras.layers import Dense\n",
        "from keras.layers import Conv2D\n",
        "from keras.layers import MaxPooling2D\n",
        "from keras.layers import Flatten\n",
        "from keras.layers import Dropout\n",
        "from keras.preprocessing.image import ImageDataGenerator\n",
        "from keras.optimizers import Adam\n",
        "from keras.models import load_model\n",
        "from google.colab import drive"
      ]
    },
    {
      "cell_type": "code",
      "source": [
        "from keras.callbacks import ModelCheckpoint"
      ],
      "metadata": {
        "id": "NGSu5nP8jbCK"
      },
      "execution_count": 14,
      "outputs": []
    },
    {
      "cell_type": "code",
      "source": [
        "from google.colab import drive\n",
        "drive.mount('/content/drive')\n",
        "\n",
        "\n",
        "#https://drive.google.com/drive/folders/1iACHvf6Oy3uK-stV9sfKLhZqMP4XHyRA?usp=share_link"
      ],
      "metadata": {
        "colab": {
          "base_uri": "https://localhost:8080/"
        },
        "id": "nrnBo5xMjdN4",
        "outputId": "523ceb68-5fe1-4adf-d24b-78a3cef1e30b"
      },
      "execution_count": 15,
      "outputs": [
        {
          "output_type": "stream",
          "name": "stdout",
          "text": [
            "Drive already mounted at /content/drive; to attempt to forcibly remount, call drive.mount(\"/content/drive\", force_remount=True).\n"
          ]
        }
      ]
    },
    {
      "cell_type": "code",
      "source": [
        "train_datagen = ImageDataGenerator(\n",
        "    featurewise_center=True,\n",
        "    featurewise_std_normalization=True,\n",
        "    rotation_range=20,\n",
        "    width_shift_range=0.2,\n",
        "    height_shift_range=0.2,\n",
        "    horizontal_flip=True,\n",
        "    validation_split=0.2,\n",
        "    rescale = 1. / 255,\n",
        "    zoom_range = 0.2\n",
        "    )\n",
        "\n",
        "test_datagen = ImageDataGenerator(rescale = 1. / 255)\n",
        "\n",
        "train_generator = train_datagen.flow_from_directory(\n",
        "    '/content/drive/MyDrive/Datasets_Model_Sampah/train',\n",
        "    target_size = (300, 300),\n",
        "    batch_size = 32,\n",
        "    class_mode='categorical'\n",
        ")\n",
        "validation_generator = test_datagen.flow_from_directory(\n",
        "        '/content/drive/MyDrive/Datasets_Model_Sampah/val',\n",
        "        target_size=(300, 300),\n",
        "        batch_size= 32,\n",
        "        class_mode='categorical')"
      ],
      "metadata": {
        "colab": {
          "base_uri": "https://localhost:8080/"
        },
        "id": "uLrHcQNQjgJD",
        "outputId": "ba4baaaf-d39a-4e29-ef78-1cca734ae342"
      },
      "execution_count": 16,
      "outputs": [
        {
          "output_type": "stream",
          "name": "stdout",
          "text": [
            "Found 729 images belonging to 2 classes.\n",
            "Found 80 images belonging to 2 classes.\n"
          ]
        }
      ]
    },
    {
      "cell_type": "code",
      "source": [
        "class myCallback(tf.keras.callbacks.Callback):\n",
        "  def on_epoch_end(self, epoch, logs = {}):\n",
        "    if (logs.get('accuracy') > 0.999999999):\n",
        "      print('\\nAkurasi sudah bagus')\n",
        "      self.model.stop_training = True\n",
        "callbacks = myCallback()"
      ],
      "metadata": {
        "id": "Ru2fRWz2jioO"
      },
      "execution_count": 17,
      "outputs": []
    },
    {
      "cell_type": "code",
      "source": [
        "model = tf.keras.Sequential([\n",
        "    tf.keras.layers.Conv2D(16, (3,3), activation='relu', input_shape=(300,300,3)),\n",
        "    tf.keras.layers.MaxPooling2D(2,2),\n",
        "    tf.keras.layers.Conv2D(32, (3,3), activation='relu'),\n",
        "    tf.keras.layers.MaxPooling2D(2,2),\n",
        "    tf.keras.layers.Conv2D(64, (3,3), activation='relu'),\n",
        "    tf.keras.layers.MaxPooling2D(2,2),\n",
        "    tf.keras.layers.Flatten(),\n",
        "    tf.keras.layers.Dense(512, activation='relu'),\n",
        "    tf.keras.layers.Dropout(0.2),\n",
        "    tf.keras.layers.Dense(2, activation='sigmoid')\n",
        "])\n",
        "\n",
        "model.summary()"
      ],
      "metadata": {
        "colab": {
          "base_uri": "https://localhost:8080/"
        },
        "id": "_dqnjZWojmT-",
        "outputId": "51472a92-a634-44f2-a0bd-59701674f7c7"
      },
      "execution_count": 18,
      "outputs": [
        {
          "output_type": "stream",
          "name": "stdout",
          "text": [
            "Model: \"sequential_1\"\n",
            "_________________________________________________________________\n",
            " Layer (type)                Output Shape              Param #   \n",
            "=================================================================\n",
            " conv2d_3 (Conv2D)           (None, 298, 298, 16)      448       \n",
            "                                                                 \n",
            " max_pooling2d_3 (MaxPooling  (None, 149, 149, 16)     0         \n",
            " 2D)                                                             \n",
            "                                                                 \n",
            " conv2d_4 (Conv2D)           (None, 147, 147, 32)      4640      \n",
            "                                                                 \n",
            " max_pooling2d_4 (MaxPooling  (None, 73, 73, 32)       0         \n",
            " 2D)                                                             \n",
            "                                                                 \n",
            " conv2d_5 (Conv2D)           (None, 71, 71, 64)        18496     \n",
            "                                                                 \n",
            " max_pooling2d_5 (MaxPooling  (None, 35, 35, 64)       0         \n",
            " 2D)                                                             \n",
            "                                                                 \n",
            " flatten_1 (Flatten)         (None, 78400)             0         \n",
            "                                                                 \n",
            " dense_2 (Dense)             (None, 512)               40141312  \n",
            "                                                                 \n",
            " dropout_1 (Dropout)         (None, 512)               0         \n",
            "                                                                 \n",
            " dense_3 (Dense)             (None, 2)                 1026      \n",
            "                                                                 \n",
            "=================================================================\n",
            "Total params: 40,165,922\n",
            "Trainable params: 40,165,922\n",
            "Non-trainable params: 0\n",
            "_________________________________________________________________\n"
          ]
        }
      ]
    },
    {
      "cell_type": "code",
      "source": [
        "model.compile(optimizer = 'adam',\n",
        "                loss = 'categorical_crossentropy',\n",
        "                metrics=['accuracy'])"
      ],
      "metadata": {
        "id": "g6vNF4BOjm6b"
      },
      "execution_count": 19,
      "outputs": []
    },
    {
      "cell_type": "code",
      "source": [
        "history = model.fit(train_generator,\n",
        "                    steps_per_epoch=10,\n",
        "                    epochs=20,\n",
        "                    #callbacks = [callbacks],\n",
        "                    validation_data=validation_generator\n",
        "                    )"
      ],
      "metadata": {
        "colab": {
          "base_uri": "https://localhost:8080/"
        },
        "id": "lNEWmLIUjpHz",
        "outputId": "ea2d109c-4b87-44bd-9e76-368ef309b417"
      },
      "execution_count": 20,
      "outputs": [
        {
          "output_type": "stream",
          "name": "stdout",
          "text": [
            "Epoch 1/20\n",
            "10/10 [==============================] - 73s 7s/step - loss: 2.4243 - accuracy: 0.4531 - val_loss: 0.6656 - val_accuracy: 0.5000\n",
            "Epoch 2/20\n",
            "10/10 [==============================] - 77s 8s/step - loss: 0.6091 - accuracy: 0.7250 - val_loss: 0.4872 - val_accuracy: 0.7375\n",
            "Epoch 3/20\n",
            "10/10 [==============================] - 74s 7s/step - loss: 0.4761 - accuracy: 0.7625 - val_loss: 0.4850 - val_accuracy: 0.7250\n",
            "Epoch 4/20\n",
            "10/10 [==============================] - 72s 7s/step - loss: 0.3711 - accuracy: 0.8281 - val_loss: 0.2963 - val_accuracy: 0.8500\n",
            "Epoch 5/20\n",
            "10/10 [==============================] - 76s 7s/step - loss: 0.3346 - accuracy: 0.8562 - val_loss: 0.2602 - val_accuracy: 0.8875\n",
            "Epoch 6/20\n",
            "10/10 [==============================] - 78s 8s/step - loss: 0.2810 - accuracy: 0.8658 - val_loss: 0.2234 - val_accuracy: 0.9125\n",
            "Epoch 7/20\n",
            "10/10 [==============================] - 84s 8s/step - loss: 0.3290 - accuracy: 0.8375 - val_loss: 0.2734 - val_accuracy: 0.8625\n",
            "Epoch 8/20\n",
            "10/10 [==============================] - 68s 7s/step - loss: 0.2735 - accuracy: 0.8658 - val_loss: 0.1812 - val_accuracy: 0.9250\n",
            "Epoch 9/20\n",
            "10/10 [==============================] - 67s 6s/step - loss: 0.2772 - accuracy: 0.8722 - val_loss: 0.1900 - val_accuracy: 0.9000\n",
            "Epoch 10/20\n",
            "10/10 [==============================] - 65s 6s/step - loss: 0.2728 - accuracy: 0.8781 - val_loss: 0.3259 - val_accuracy: 0.8750\n",
            "Epoch 11/20\n",
            "10/10 [==============================] - 67s 7s/step - loss: 0.2530 - accuracy: 0.8969 - val_loss: 0.2013 - val_accuracy: 0.9250\n",
            "Epoch 12/20\n",
            "10/10 [==============================] - 64s 6s/step - loss: 0.2495 - accuracy: 0.8818 - val_loss: 0.3036 - val_accuracy: 0.8875\n",
            "Epoch 13/20\n",
            "10/10 [==============================] - 65s 7s/step - loss: 0.2557 - accuracy: 0.8687 - val_loss: 0.2212 - val_accuracy: 0.9500\n",
            "Epoch 14/20\n",
            "10/10 [==============================] - 70s 7s/step - loss: 0.2725 - accuracy: 0.8786 - val_loss: 0.2905 - val_accuracy: 0.9125\n",
            "Epoch 15/20\n",
            "10/10 [==============================] - 66s 7s/step - loss: 0.2349 - accuracy: 0.9000 - val_loss: 0.3128 - val_accuracy: 0.8625\n",
            "Epoch 16/20\n",
            "10/10 [==============================] - 65s 7s/step - loss: 0.2306 - accuracy: 0.8969 - val_loss: 0.1724 - val_accuracy: 0.9500\n",
            "Epoch 17/20\n",
            "10/10 [==============================] - 71s 7s/step - loss: 0.2102 - accuracy: 0.9105 - val_loss: 0.1552 - val_accuracy: 0.9500\n",
            "Epoch 18/20\n",
            "10/10 [==============================] - 72s 7s/step - loss: 0.1789 - accuracy: 0.9156 - val_loss: 0.1259 - val_accuracy: 0.9375\n",
            "Epoch 19/20\n",
            "10/10 [==============================] - 67s 7s/step - loss: 0.2523 - accuracy: 0.8844 - val_loss: 0.2120 - val_accuracy: 0.9375\n",
            "Epoch 20/20\n",
            "10/10 [==============================] - 73s 7s/step - loss: 0.2995 - accuracy: 0.8875 - val_loss: 0.1857 - val_accuracy: 0.9000\n"
          ]
        }
      ]
    },
    {
      "cell_type": "code",
      "source": [
        "epoch_avg_acc = sum(history.history['accuracy']) / len(history.history['accuracy'])\n",
        "print(\"Epoch average accuracy: {:.2f}%\".format(epoch_avg_acc * 100))"
      ],
      "metadata": {
        "id": "4a1BoOh5jt7k",
        "outputId": "e306989d-ed73-4af1-9487-3a56e42eca30",
        "colab": {
          "base_uri": "https://localhost:8080/"
        }
      },
      "execution_count": 21,
      "outputs": [
        {
          "output_type": "stream",
          "name": "stdout",
          "text": [
            "Epoch average accuracy: 84.33%\n"
          ]
        }
      ]
    },
    {
      "cell_type": "code",
      "source": [
        "fig, ax = plt.subplots(figsize=(5, 5))\n",
        "plt.plot(history.history['accuracy'])\n",
        "plt.plot(history.history['val_accuracy'])\n",
        "plt.title('Model accuracy')\n",
        "plt.ylabel('Accuracy')\n",
        "plt.xlabel('Epoch')\n",
        "plt.legend(['Train', 'Val'], loc='upper left')\n",
        "plt.show()"
      ],
      "metadata": {
        "id": "sKjWx9oXjuc5",
        "colab": {
          "base_uri": "https://localhost:8080/",
          "height": 487
        },
        "outputId": "22f99df9-0aac-4e5d-a203-edf5b060e08a"
      },
      "execution_count": 22,
      "outputs": [
        {
          "output_type": "display_data",
          "data": {
            "text/plain": [
              "<Figure size 500x500 with 1 Axes>"
            ],
            "image/png": "[encoded data removed]"
          },
          "metadata": {}
        }
      ]
    },
    {
      "cell_type": "code",
      "source": [
        "fig, ax = plt.subplots(figsize=(5, 5))\n",
        "plt.plot(history.history['loss'])\n",
        "plt.plot(history.history['val_loss'])\n",
        "plt.title('Model loss')\n",
        "plt.ylabel('Loss')\n",
        "plt.xlabel('Epoch')\n",
        "plt.legend(['Train', 'Val'], loc='upper left')\n",
        "plt.show()"
      ],
      "metadata": {
        "id": "PWAi6X4fjwQp",
        "colab": {
          "base_uri": "https://localhost:8080/",
          "height": 487
        },
        "outputId": "a8d6ddbf-8527-45b4-d22e-4328a3afb6ae"
      },
      "execution_count": 23,
      "outputs": [
        {
          "output_type": "display_data",
          "data": {
            "text/plain": [
              "<Figure size 500x500 with 1 Axes>"
            ],
            "image/png": "[encoded data removed]"
          },
          "metadata": {}
        }
      ]
    },
    {
      "cell_type": "code",
      "source": [
        "saved_model_path = '/content/drive/MyDrive/save_model_sampah_fix.h5'\n",
        "model.save(saved_model_path)\n",
        "\n",
        "#!tensorflowjs_converter --input_format=keras saved_model_path /tmp/tfjs_model\n",
        "\n",
        "!tensorflowjs_converter --input_format=keras {saved_model_path} ./\n"
      ],
      "metadata": {
        "id": "Gpittjq2jyE-",
        "colab": {
          "base_uri": "https://localhost:8080/"
        },
        "outputId": "db8cdd3f-faf9-47aa-bf10-2be8644a487a"
      },
      "execution_count": 25,
      "outputs": [
        {
          "output_type": "stream",
          "name": "stdout",
          "text": [
            "/bin/bash: tensorflowjs_converter: command not found\n"
          ]
        }
      ]
    }
  ]
}