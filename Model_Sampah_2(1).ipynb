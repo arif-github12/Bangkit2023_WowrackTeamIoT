{
  "nbformat": 4,
  "nbformat_minor": 0,
  "metadata": {
    "colab": {
      "provenance": []
    },
    "kernelspec": {
      "name": "python3",
      "display_name": "Python 3"
    },
    "language_info": {
      "name": "python"
    }
  },
  "cells": [
    {
      "cell_type": "code",
      "execution_count": 83,
      "metadata": {
        "id": "RWjEsAsFhkns"
      },
      "outputs": [],
      "source": [
        "import cv2\n",
        "import matplotlib.pyplot as plt\n",
        "import imgaug.augmenters as aug\n",
        "import random\n",
        "import shutil\n",
        "import os\n",
        "import time\n",
        "import numpy as np\n",
        "import keras\n",
        "import tensorflow as tf\n",
        "from keras.models import Model\n",
        "from keras.layers import Input\n",
        "from keras.layers import Dense\n",
        "from keras.layers import Conv2D\n",
        "from keras.layers import MaxPooling2D\n",
        "from keras.layers import Flatten\n",
        "from keras.layers import Dropout\n",
        "from keras.preprocessing.image import ImageDataGenerator\n",
        "from keras.optimizers import Adam\n",
        "from keras.models import load_model\n",
        "from google.colab import drive"
      ]
    },
    {
      "cell_type": "code",
      "source": [
        "from keras.callbacks import ModelCheckpoint"
      ],
      "metadata": {
        "id": "eTKyaffoedbW"
      },
      "execution_count": 84,
      "outputs": []
    },
    {
      "cell_type": "code",
      "source": [
        "from google.colab import drive\n",
        "drive.mount('/content/drive')\n",
        "\n",
        "\n",
        "#https://drive.google.com/drive/folders/1iACHvf6Oy3uK-stV9sfKLhZqMP4XHyRA?usp=share_link"
      ],
      "metadata": {
        "colab": {
          "base_uri": "https://localhost:8080/"
        },
        "id": "dBlp8mimK1A_",
        "outputId": "e65911c7-75de-4a10-a72d-d50d4ce9d99c"
      },
      "execution_count": 85,
      "outputs": [
        {
          "output_type": "stream",
          "name": "stdout",
          "text": [
            "Drive already mounted at /content/drive; to attempt to forcibly remount, call drive.mount(\"/content/drive\", force_remount=True).\n"
          ]
        }
      ]
    },
    {
      "cell_type": "code",
      "source": [
        "train_datagen = ImageDataGenerator(\n",
        "    featurewise_center=True,\n",
        "    featurewise_std_normalization=True,\n",
        "    rotation_range=20,\n",
        "    width_shift_range=0.2,\n",
        "    height_shift_range=0.2,\n",
        "    horizontal_flip=True,\n",
        "    validation_split=0.2,\n",
        "    rescale = 1. / 255,\n",
        "    zoom_range = 0.2\n",
        "    )\n",
        "\n",
        "test_datagen = ImageDataGenerator(rescale = 1. / 255)\n",
        "\n",
        "train_generator = train_datagen.flow_from_directory(\n",
        "    '/content/drive/MyDrive/Datasets_Model_Sampah/train',\n",
        "    target_size = (150, 150),\n",
        "    batch_size = 32,\n",
        "    class_mode='categorical'\n",
        ")\n",
        "validation_generator = test_datagen.flow_from_directory(\n",
        "        '/content/drive/MyDrive/Datasets_Model_Sampah/val',\n",
        "        target_size=(150, 150),\n",
        "        batch_size=32,\n",
        "        class_mode='categorical')"
      ],
      "metadata": {
        "id": "NM-pWy0yhvHI",
        "colab": {
          "base_uri": "https://localhost:8080/"
        },
        "outputId": "7930c203-50d0-40fe-e736-a01af49f721d"
      },
      "execution_count": 86,
      "outputs": [
        {
          "output_type": "stream",
          "name": "stdout",
          "text": [
            "Found 450 images belonging to 2 classes.\n",
            "Found 50 images belonging to 2 classes.\n"
          ]
        }
      ]
    },
    {
      "cell_type": "code",
      "source": [
        "class myCallback(tf.keras.callbacks.Callback):\n",
        "  def on_epoch_end(self, epoch, logs = {}):\n",
        "    if (logs.get('accuracy') > 0.999999999):\n",
        "      print('\\nAkurasi sudah bagus')\n",
        "      self.model.stop_training = True\n",
        "callbacks = myCallback()"
      ],
      "metadata": {
        "id": "DoW0n42UK8gj"
      },
      "execution_count": 87,
      "outputs": []
    },
    {
      "cell_type": "code",
      "source": [
        "model = tf.keras.Sequential([\n",
        "    tf.keras.layers.Conv2D(16, (3,3), activation='relu', input_shape=(150,150,3)),\n",
        "    tf.keras.layers.MaxPooling2D(2,2),\n",
        "    tf.keras.layers.Conv2D(32, (3,3), activation='relu'),\n",
        "    tf.keras.layers.MaxPooling2D(2,2),\n",
        "    tf.keras.layers.Conv2D(64, (3,3), activation='relu'),\n",
        "    tf.keras.layers.MaxPooling2D(2,2),\n",
        "    tf.keras.layers.Flatten(),\n",
        "    tf.keras.layers.Dense(128, activation='relu'),\n",
        "    tf.keras.layers.Dropout(0.5),\n",
        "    tf.keras.layers.Dense(2, activation='sigmoid')\n",
        "])\n",
        "\n",
        "model.summary()"
      ],
      "metadata": {
        "id": "e43sjRWLK_M-",
        "colab": {
          "base_uri": "https://localhost:8080/"
        },
        "outputId": "e5baa0d6-5f55-43d7-f557-394085f8c35d"
      },
      "execution_count": 88,
      "outputs": [
        {
          "output_type": "stream",
          "name": "stdout",
          "text": [
            "Model: \"sequential_5\"\n",
            "_________________________________________________________________\n",
            " Layer (type)                Output Shape              Param #   \n",
            "=================================================================\n",
            " conv2d_15 (Conv2D)          (None, 148, 148, 16)      448       \n",
            "                                                                 \n",
            " max_pooling2d_15 (MaxPoolin  (None, 74, 74, 16)       0         \n",
            " g2D)                                                            \n",
            "                                                                 \n",
            " conv2d_16 (Conv2D)          (None, 72, 72, 32)        4640      \n",
            "                                                                 \n",
            " max_pooling2d_16 (MaxPoolin  (None, 36, 36, 32)       0         \n",
            " g2D)                                                            \n",
            "                                                                 \n",
            " conv2d_17 (Conv2D)          (None, 34, 34, 64)        18496     \n",
            "                                                                 \n",
            " max_pooling2d_17 (MaxPoolin  (None, 17, 17, 64)       0         \n",
            " g2D)                                                            \n",
            "                                                                 \n",
            " flatten_5 (Flatten)         (None, 18496)             0         \n",
            "                                                                 \n",
            " dense_10 (Dense)            (None, 128)               2367616   \n",
            "                                                                 \n",
            " dropout_5 (Dropout)         (None, 128)               0         \n",
            "                                                                 \n",
            " dense_11 (Dense)            (None, 2)                 258       \n",
            "                                                                 \n",
            "=================================================================\n",
            "Total params: 2,391,458\n",
            "Trainable params: 2,391,458\n",
            "Non-trainable params: 0\n",
            "_________________________________________________________________\n"
          ]
        }
      ]
    },
    {
      "cell_type": "code",
      "source": [
        "model.compile(optimizer = 'adam',\n",
        "                loss = 'categorical_crossentropy',\n",
        "                metrics=['accuracy'])"
      ],
      "metadata": {
        "id": "Jz9Bv4uJK__M"
      },
      "execution_count": 89,
      "outputs": []
    },
    {
      "cell_type": "code",
      "source": [
        "history = model.fit(train_generator,\n",
        "                    steps_per_epoch=6,\n",
        "                    epochs=15,\n",
        "                    #callbacks = [callbacks],\n",
        "                    validation_data=validation_generator\n",
        "                    )"
      ],
      "metadata": {
        "id": "KzXsC8IgLEpR",
        "colab": {
          "base_uri": "https://localhost:8080/"
        },
        "outputId": "d0fdc742-79aa-4ebe-bae3-14b690c9a292"
      },
      "execution_count": 90,
      "outputs": [
        {
          "output_type": "stream",
          "name": "stdout",
          "text": [
            "Epoch 1/15\n",
            "6/6 [==============================] - 5s 661ms/step - loss: 0.5735 - accuracy: 0.6875 - val_loss: 0.3455 - val_accuracy: 0.8600\n",
            "Epoch 2/15\n",
            "6/6 [==============================] - 3s 525ms/step - loss: 0.4419 - accuracy: 0.8086 - val_loss: 0.1578 - val_accuracy: 0.9800\n",
            "Epoch 3/15\n",
            "6/6 [==============================] - 4s 619ms/step - loss: 0.2617 - accuracy: 0.8704 - val_loss: 0.0497 - val_accuracy: 1.0000\n",
            "Epoch 4/15\n",
            "6/6 [==============================] - 4s 610ms/step - loss: 0.1918 - accuracy: 0.9323 - val_loss: 0.2261 - val_accuracy: 0.8800\n",
            "Epoch 5/15\n",
            "6/6 [==============================] - 4s 587ms/step - loss: 0.1306 - accuracy: 0.9688 - val_loss: 0.0120 - val_accuracy: 1.0000\n",
            "Epoch 6/15\n",
            "6/6 [==============================] - 5s 669ms/step - loss: 0.0443 - accuracy: 0.9948 - val_loss: 0.0021 - val_accuracy: 1.0000\n",
            "Epoch 7/15\n",
            "6/6 [==============================] - 3s 520ms/step - loss: 0.0292 - accuracy: 0.9938 - val_loss: 0.0117 - val_accuracy: 1.0000\n",
            "Epoch 8/15\n",
            "6/6 [==============================] - 4s 733ms/step - loss: 0.0126 - accuracy: 1.0000 - val_loss: 3.4698e-04 - val_accuracy: 1.0000\n",
            "Epoch 9/15\n",
            "6/6 [==============================] - 4s 618ms/step - loss: 0.0025 - accuracy: 1.0000 - val_loss: 1.3025e-04 - val_accuracy: 1.0000\n",
            "Epoch 10/15\n",
            "6/6 [==============================] - 4s 599ms/step - loss: 7.2383e-04 - accuracy: 1.0000 - val_loss: 0.0012 - val_accuracy: 1.0000\n",
            "Epoch 11/15\n",
            "6/6 [==============================] - 5s 732ms/step - loss: 4.5500e-04 - accuracy: 1.0000 - val_loss: 2.3219e-04 - val_accuracy: 1.0000\n",
            "Epoch 12/15\n",
            "6/6 [==============================] - 4s 611ms/step - loss: 2.3512e-04 - accuracy: 1.0000 - val_loss: 5.5736e-05 - val_accuracy: 1.0000\n",
            "Epoch 13/15\n",
            "6/6 [==============================] - 4s 614ms/step - loss: 2.4924e-04 - accuracy: 1.0000 - val_loss: 4.2819e-05 - val_accuracy: 1.0000\n",
            "Epoch 14/15\n",
            "6/6 [==============================] - 5s 752ms/step - loss: 3.5091e-04 - accuracy: 1.0000 - val_loss: 4.6934e-05 - val_accuracy: 1.0000\n",
            "Epoch 15/15\n",
            "6/6 [==============================] - 4s 614ms/step - loss: 2.6133e-04 - accuracy: 1.0000 - val_loss: 5.8568e-04 - val_accuracy: 1.0000\n"
          ]
        }
      ]
    },
    {
      "cell_type": "code",
      "source": [
        "epoch_avg_acc = sum(history.history['accuracy']) / len(history.history['accuracy'])\n",
        "print(\"Epoch average accuracy: {:.2f}%\".format(epoch_avg_acc * 100))"
      ],
      "metadata": {
        "id": "2QL51URALHGY",
        "colab": {
          "base_uri": "https://localhost:8080/"
        },
        "outputId": "92e0000c-ff79-431e-f7ad-84687cc4ede9"
      },
      "execution_count": 91,
      "outputs": [
        {
          "output_type": "stream",
          "name": "stdout",
          "text": [
            "Epoch average accuracy: 95.04%\n"
          ]
        }
      ]
    },
    {
      "cell_type": "code",
      "source": [
        "fig, ax = plt.subplots(figsize=(5, 5))\n",
        "plt.plot(history.history['accuracy'])\n",
        "plt.plot(history.history['val_accuracy'])\n",
        "plt.title('Model accuracy')\n",
        "plt.ylabel('Accuracy')\n",
        "plt.xlabel('Epoch')\n",
        "plt.legend(['Train', 'Val'], loc='upper left')\n",
        "plt.show()"
      ],
      "metadata": {
        "id": "30iDohnmLIoI",
        "colab": {
          "base_uri": "https://localhost:8080/",
          "height": 487
        },
        "outputId": "09eddde4-1bab-4d10-c92e-f65a782a93d8"
      },
      "execution_count": 92,
      "outputs": [
        {
          "output_type": "display_data",
          "data": {
            "text/plain": [
              "<Figure size 500x500 with 1 Axes>"
            ],
            "image/png": "[encoded data removed]"
          },
          "metadata": {}
        }
      ]
    },
    {
      "cell_type": "code",
      "source": [
        "fig, ax = plt.subplots(figsize=(5, 5))\n",
        "plt.plot(history.history['loss'])\n",
        "plt.plot(history.history['val_loss'])\n",
        "plt.title('Model loss')\n",
        "plt.ylabel('Loss')\n",
        "plt.xlabel('Epoch')\n",
        "plt.legend(['Train', 'Val'], loc='upper left')\n",
        "plt.show()"
      ],
      "metadata": {
        "id": "Y7uROQjpLKCT",
        "colab": {
          "base_uri": "https://localhost:8080/",
          "height": 487
        },
        "outputId": "b27c844d-7b9f-4a91-875d-03032e745aac"
      },
      "execution_count": 93,
      "outputs": [
        {
          "output_type": "display_data",
          "data": {
            "text/plain": [
              "<Figure size 500x500 with 1 Axes>"
            ],
            "image/png": "[encoded data removed]"
          },
          "metadata": {}
        }
      ]
    },
    {
      "cell_type": "code",
      "source": [
        "folder_save = '/content/drive/MyDrive/save_model_sampah'"
      ],
      "metadata": {
        "id": "68Nu6iobekf1"
      },
      "execution_count": 94,
      "outputs": []
    },
    {
      "cell_type": "code",
      "source": [
        "tf_format = ModelCheckpoint(folder_save)"
      ],
      "metadata": {
        "id": "G1fk_RObe5os"
      },
      "execution_count": 95,
      "outputs": []
    },
    {
      "cell_type": "code",
      "source": [
        "keras_save = '/content/drive/MyDrive/save_model_sampah.h5'"
      ],
      "metadata": {
        "id": "rInvK0cgiVhG"
      },
      "execution_count": 96,
      "outputs": []
    },
    {
      "cell_type": "code",
      "source": [
        "k_format = ModelCheckpoint(keras_save)"
      ],
      "metadata": {
        "id": "pPSjS5rSiKoa"
      },
      "execution_count": 97,
      "outputs": []
    },
    {
      "cell_type": "code",
      "source": [
        "from keras.models import load_model"
      ],
      "metadata": {
        "id": "ucvBWkvLowAD"
      },
      "execution_count": 98,
      "outputs": []
    },
    {
      "cell_type": "code",
      "source": [
        "model.save('/content/drive/MyDrive/save_model_sampah_1.h5')"
      ],
      "metadata": {
        "id": "ahUNIm3bo192"
      },
      "execution_count": 99,
      "outputs": []
    }
  ]
}